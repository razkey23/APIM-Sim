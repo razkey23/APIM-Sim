{
 "cells": [
  {
   "cell_type": "markdown",
   "id": "e9dbde8b-10f2-4d20-8aa9-5c7888514ab0",
   "metadata": {},
   "source": [
    "## Setup\n",
    "Import and util functions"
   ]
  },
  {
   "cell_type": "code",
   "execution_count": 1,
   "id": "303697a9-9b7d-4188-9c1c-0af2fbdf0191",
   "metadata": {},
   "outputs": [],
   "source": [
    "import numpy as np\n",
    "\n",
    "from components.Accelerator import *\n",
    "from components.ColumnAccumulator import *\n",
    "from components.OperationalArray import *\n",
    "from components.RowAccumulator import *\n",
    "from components.WordAccumulator import *"
   ]
  },
  {
   "cell_type": "code",
   "execution_count": 2,
   "id": "a58b2e32-f335-4ef8-afa9-e7267eb70627",
   "metadata": {},
   "outputs": [],
   "source": [
    "def convert_matrix_to_oa_shape(matrix, max_rows=128, max_cols=128, bit_depth=8):\n",
    "    \"\"\"\n",
    "    Convert a 2D matrix of 8-bit unsigned integers (shape (r, c)) into\n",
    "    a shape (max_rows, max_cols * bit_depth) suitable for the OperationalArray.\n",
    "    The first r rows get the expanded bits of the matrix's c columns.\n",
    "    The rest are zeros.\n",
    "\n",
    "    We'll place matrix[i,j]'s bits into columns [j*bit_depth : j*bit_depth+bit_depth].\n",
    "    \"\"\"\n",
    "    r, c = matrix.shape\n",
    "    # Prepare an empty big array\n",
    "    big_weights = np.zeros((max_rows, max_cols * bit_depth), dtype=int)\n",
    "\n",
    "    for i in range(r):\n",
    "        for j in range(c):\n",
    "            val = matrix[i, j]\n",
    "            # Convert to 8-bit\n",
    "            for b in range(bit_depth):\n",
    "                # For bit b: if b=0 => LSB, b=7 => MSB\n",
    "                bit_mask = (val >> (bit_depth - 1 - b)) & 1\n",
    "                big_weights[i, j * bit_depth + b] = bit_mask\n",
    "    return big_weights\n"
   ]
  },
  {
   "cell_type": "code",
   "execution_count": 7,
   "id": "acb46b7a-992b-4c8d-8adc-19359683245d",
   "metadata": {},
   "outputs": [],
   "source": [
    "def log_vector_and_matrix(vector, matrix, file_prefix, vector_bit_precision=8, matrix_bit_precision=8, rows=None):\n",
    "    \"\"\"\n",
    "    Logs:\n",
    "      - vector in decimal\n",
    "      - vector in binary (bit_precision-defined), padded to 'rows' if specified\n",
    "      - matrix in decimal\n",
    "      - matrix in bit-unrolled form (128x(128 * matrix_bit_precision))\n",
    "\n",
    "    Args:\n",
    "        vector (np.ndarray): 1D array of unsigned integers.\n",
    "        matrix (np.ndarray): 2D array of unsigned integers.\n",
    "        file_prefix (str): Prefix for the output filenames.\n",
    "        vector_bit_precision (int): Number of bits per vector element (e.g., 4 or 8).\n",
    "        matrix_bit_precision (int): Number of bits per matrix element (e.g., 8).\n",
    "        rows (int, optional): Total number of rows to log for the vector. Pads with zeros if greater than vector.size.\n",
    "    \"\"\"\n",
    "    vector_size = vector.size\n",
    "    total_rows = rows if rows is not None else vector_size\n",
    "\n",
    "    # 1) Log vector (decimal)\n",
    "    with open(f\"{file_prefix}_vector_decimal.txt\", \"w\") as f:\n",
    "        for val in vector:\n",
    "            f.write(str(val) + \"\\n\")\n",
    "        for _ in range(total_rows - vector_size):\n",
    "            f.write(\"0\\n\")\n",
    "\n",
    "    # 2) Log vector (binary, bit_precision-wide)\n",
    "    with open(f\"{file_prefix}_vector_bits.txt\", \"w\") as f:\n",
    "        for val in vector:\n",
    "            bits = format(val, f'0{vector_bit_precision}b')  # zero-padded binary\n",
    "            f.write(' '.join(bits) + \"\\n\")\n",
    "        for _ in range(total_rows - vector_size):\n",
    "            f.write(' '.join('0' * vector_bit_precision) + \"\\n\")\n",
    "\n",
    "    # 3) Log matrix (decimal)\n",
    "    with open(f\"{file_prefix}_matrix_decimal.txt\", \"w\") as f:\n",
    "        for row in matrix:\n",
    "            f.write(\" \".join(str(v) for v in row) + \"\\n\")\n",
    "\n",
    "    # 4) Log matrix (bit-unrolled) for OperationalArray\n",
    "    weights_oa = convert_matrix_to_oa_shape(matrix, 128, 128, bit_depth=matrix_bit_precision)\n",
    "    with open(f\"{file_prefix}_matrix_bits.txt\", \"w\") as f:\n",
    "        for row in weights_oa:\n",
    "            f.write(' '.join(str(bit) for bit in row) + \"\\n\")\n"
   ]
  },
  {
   "cell_type": "code",
   "execution_count": 4,
   "id": "0d84a131-dcf8-414e-8ecf-28761614f895",
   "metadata": {},
   "outputs": [],
   "source": [
    "def run_example(vector, matrix):\n",
    "    \"\"\"\n",
    "    1. Convert 'matrix' into 128x(128*8) bit placement.\n",
    "    2. Create Accelerator(128, 128, 8, 8).\n",
    "    3. Load weights.\n",
    "    4. Do the bit-serial multiplication with 'vector'.\n",
    "    5. Compare with numpy result.\n",
    "    \"\"\"\n",
    "    # Convert matrix to the shape needed by OperationalArray\n",
    "    weights_oa = convert_matrix_to_oa_shape(matrix, max_rows=128, max_cols=128, bit_depth=8)\n",
    "\n",
    "    # Create the accelerator\n",
    "    acc = Accelerator(rows=128, cols=128, bit_depth=8, bit_serial=8)\n",
    "\n",
    "    # Load weights\n",
    "    acc.load_weights(weights_oa)\n",
    "\n",
    "    # Compute hardware-like result\n",
    "    hw_result = acc.vector_matrix_multiply_bitserial(vector)\n",
    "\n",
    "    # For clarity, the output length = number of columns in the original matrix\n",
    "    # because each group of 8 bits in the OA columns maps to 1 \"column\" in normal math\n",
    "    # So let's slice it properly:\n",
    "    out_len = matrix.shape[1]\n",
    "    final_hw_result = hw_result[:out_len].astype(np.int64)\n",
    "\n",
    "    # Compare with standard numpy (all 8-bit -> treat as standard unsigned, but safe up to 16-bit or more)\n",
    "    # We'll do standard 32- or 64-bit integer arithmetic in numpy\n",
    "    vector_np = vector.astype(np.int64)\n",
    "    matrix_np = matrix.astype(np.int64)\n",
    "    np_result = vector_np.dot(matrix_np)  # shape (out_len,)\n",
    "\n",
    "    print(\"Vector:\", vector)\n",
    "    print(\"Matrix shape:\", matrix.shape)\n",
    "    print(\"Hardware-like result:\", final_hw_result)\n",
    "    print(\"Numpy result:         \", np_result)\n",
    "    print(\"Match?                \", np.allclose(final_hw_result, np_result))\n",
    "    print(\"-----\\n\")"
   ]
  },
  {
   "cell_type": "code",
   "execution_count": 5,
   "id": "712b0660-8fb7-4e58-a2fe-d090cf9d4c59",
   "metadata": {},
   "outputs": [],
   "source": [
    "# Example A: Very small, 4x4\n",
    "# Vector shape: 4\n",
    "# Matrix shape: (4,4)\n",
    "# All unsigned 8-bit\n",
    "np.random.seed(0)"
   ]
  },
  {
   "cell_type": "markdown",
   "id": "0aafd858-79ee-4893-8331-c8355fd75ae4",
   "metadata": {},
   "source": [
    "## 8-Bit Examples"
   ]
  },
  {
   "cell_type": "markdown",
   "id": "b7420c13-da2f-498c-8c88-a586c1d4806f",
   "metadata": {},
   "source": [
    "### Example 1"
   ]
  },
  {
   "cell_type": "code",
   "execution_count": 5,
   "id": "aef878f7-4205-4887-ae1d-2f062fbd8a16",
   "metadata": {},
   "outputs": [
    {
     "name": "stdout",
     "output_type": "stream",
     "text": [
      "Vector: [172  10 127 140]\n",
      "Matrix shape: (4, 4)\n",
      "Hardware-like result: [43018 81868 49043 76794]\n",
      "Numpy result:          [43018 81868 49043 76794]\n",
      "Match?                 True\n",
      "-----\n",
      "\n"
     ]
    }
   ],
   "source": [
    "vec_A = np.random.randint(0, 256, size=(4,), dtype=np.uint8)\n",
    "mat_A = np.random.randint(0, 256, size=(4, 4), dtype=np.uint8)\n",
    "\n",
    "run_example(vec_A, mat_A)"
   ]
  },
  {
   "cell_type": "markdown",
   "id": "8e8be4e6-c416-4f24-9881-6194a7602dbd",
   "metadata": {},
   "source": [
    "### Example 2"
   ]
  },
  {
   "cell_type": "code",
   "execution_count": 8,
   "id": "a1d2e258-fcc9-4047-99b7-9308e2f206c5",
   "metadata": {},
   "outputs": [
    {
     "name": "stdout",
     "output_type": "stream",
     "text": [
      "Vector: [251  82 162 219]\n",
      "Matrix shape: (4, 16)\n",
      "Hardware-like result: [ 74709  58463  59802 106817 122956  93995 102995  91238  69837 108493\n",
      "  96468 120382  91316 109894 128231 102652]\n",
      "Numpy result:          [ 74709  58463  59802 106817 122956  93995 102995  91238  69837 108493\n",
      "  96468 120382  91316 109894 128231 102652]\n",
      "Match?                 True\n",
      "-----\n",
      "\n"
     ]
    }
   ],
   "source": [
    "# Example B: 4 x 16\n",
    "vec_B = np.random.randint(0, 256, size=(4,), dtype=np.uint8)\n",
    "mat_B = np.random.randint(0, 256, size=(4, 16), dtype=np.uint8)\n",
    "\n",
    "run_example(vec_B, mat_B)\n"
   ]
  },
  {
   "cell_type": "markdown",
   "id": "764a921c-cb9d-48e9-a03d-1a04dee3c3f5",
   "metadata": {},
   "source": [
    "### Example 3"
   ]
  },
  {
   "cell_type": "code",
   "execution_count": 9,
   "id": "3e23a24a-5096-47f9-a1c2-68957719d88c",
   "metadata": {},
   "outputs": [
    {
     "name": "stdout",
     "output_type": "stream",
     "text": [
      "Vector: [ 87 168 101 135 174 200 223 122  88  94 107 145  81 139 141 100]\n",
      "Matrix shape: (16, 16)\n",
      "Hardware-like result: [273705 305226 310831 337177 250038 224387 254815 346757 234884 274427\n",
      " 248845 221296 300841 208271 265211 223751]\n",
      "Numpy result:          [273705 305226 310831 337177 250038 224387 254815 346757 234884 274427\n",
      " 248845 221296 300841 208271 265211 223751]\n",
      "Match?                 True\n",
      "-----\n",
      "\n"
     ]
    }
   ],
   "source": [
    "# Example C: 16 x 16\n",
    "vec_C = np.random.randint(0, 256, size=(16,), dtype=np.uint8)\n",
    "mat_C = np.random.randint(0, 256, size=(16, 16), dtype=np.uint8)\n",
    "\n",
    "run_example(vec_C, mat_C)"
   ]
  },
  {
   "cell_type": "markdown",
   "id": "a3acc954-179b-4163-8abb-10b52ac9b7a2",
   "metadata": {},
   "source": [
    "### Example 4"
   ]
  },
  {
   "cell_type": "code",
   "execution_count": 10,
   "id": "7a4d8bc0-ed31-48a4-a408-289c29cc8211",
   "metadata": {},
   "outputs": [
    {
     "name": "stdout",
     "output_type": "stream",
     "text": [
      "Vector: [119 236 174 171  11 187 192  43 174 161 219  53  82 220 175  91  91  80\n",
      "   1  33]\n",
      "Matrix shape: (20, 10)\n",
      "Hardware-like result: [244913 346328 320550 296086 329649 282235 373784 235660 264597 380690]\n",
      "Numpy result:          [244913 346328 320550 296086 329649 282235 373784 235660 264597 380690]\n",
      "Match?                 True\n",
      "-----\n",
      "\n"
     ]
    }
   ],
   "source": [
    "# Example D: 20 x 10 (just to show non-square shapes)\n",
    "vec_D = np.random.randint(0, 256, size=(20,), dtype=np.uint8)\n",
    "mat_D = np.random.randint(0, 256, size=(20, 10), dtype=np.uint8)\n",
    "\n",
    "run_example(vec_D, mat_D)"
   ]
  },
  {
   "cell_type": "markdown",
   "id": "a6c2448b-460b-4da1-b8eb-211c8d8a6d2a",
   "metadata": {},
   "source": [
    "## Mixed Precision Examples"
   ]
  },
  {
   "cell_type": "code",
   "execution_count": 8,
   "id": "541071b8-c0ad-45af-9cf7-01b6a9f7977e",
   "metadata": {},
   "outputs": [
    {
     "name": "stdout",
     "output_type": "stream",
     "text": [
      "Vector: [11  2  2 11]\n",
      "Matrix shape: (4, 4)\n",
      "Hardware-like result: [4690 4318 3836 3926]\n",
      "Numpy result:          [4690 4318 3836 3926]\n",
      "Match?                 True\n",
      "-----\n",
      "\n"
     ]
    }
   ],
   "source": [
    "vec_4x4 = np.random.randint(0, 16, size=(4,), dtype=np.uint8)   # 4-bit vector\n",
    "mat_4x4 = np.random.randint(0, 256, size=(4, 4), dtype=np.uint8) # 8-bit matrix\n",
    "log_vector_and_matrix(vec_4x4, mat_4x4,file_prefix=\"out\", vector_bit_precision=4, matrix_bit_precision=8,rows=128)\n",
    "run_example(vec_4x4, mat_4x4)"
   ]
  },
  {
   "cell_type": "code",
   "execution_count": 16,
   "id": "0335c350-09ab-4e14-992e-89e52714d244",
   "metadata": {},
   "outputs": [
    {
     "name": "stdout",
     "output_type": "stream",
     "text": [
      "Vector: [ 3  7  1  7  2 10  5  1 14  7  0  0  3 10 12  1  4 12  7 13  1  0  0  3\n",
      "  2 10 11  2 11  5  3  5 14 11 14 10  9 12 12  8 10 12  0 11  1 10  1  3\n",
      "  4 12  6  5 10 11  6 13  6  0  8  7 11 12 13  1]\n",
      "Matrix shape: (64, 64)\n",
      "Hardware-like result: [58806 60388 65782 51628 55167 50188 65553 52997 52788 50628 56684 61499\n",
      " 64327 57475 60555 55141 55445 59280 47538 44622 51902 57321 49640 54267\n",
      " 50473 56122 53300 49887 58369 46049 59990 54708 56314 53244 54500 59430\n",
      " 51067 53156 48696 49332 55118 48273 58148 57934 47593 61374 47859 56930\n",
      " 56924 62289 51802 55222 49082 58944 56700 58419 50535 50875 57654 63309\n",
      " 56135 60900 48413 54803]\n",
      "Numpy result:          [58806 60388 65782 51628 55167 50188 65553 52997 52788 50628 56684 61499\n",
      " 64327 57475 60555 55141 55445 59280 47538 44622 51902 57321 49640 54267\n",
      " 50473 56122 53300 49887 58369 46049 59990 54708 56314 53244 54500 59430\n",
      " 51067 53156 48696 49332 55118 48273 58148 57934 47593 61374 47859 56930\n",
      " 56924 62289 51802 55222 49082 58944 56700 58419 50535 50875 57654 63309\n",
      " 56135 60900 48413 54803]\n",
      "Match?                 True\n",
      "-----\n",
      "\n"
     ]
    }
   ],
   "source": [
    "vec = np.random.randint(0, 16, size=(64,), dtype=np.uint8)   # 4-bit vector\n",
    "mat = np.random.randint(0, 256, size=(64, 64), dtype=np.uint8) # 8-bit matrix\n",
    "run_example(vec, mat)"
   ]
  }
 ],
 "metadata": {
  "kernelspec": {
   "display_name": "zigzag",
   "language": "python",
   "name": "zigzag"
  },
  "language_info": {
   "codemirror_mode": {
    "name": "ipython",
    "version": 3
   },
   "file_extension": ".py",
   "mimetype": "text/x-python",
   "name": "python",
   "nbconvert_exporter": "python",
   "pygments_lexer": "ipython3",
   "version": "3.11.0rc1"
  }
 },
 "nbformat": 4,
 "nbformat_minor": 5
}
